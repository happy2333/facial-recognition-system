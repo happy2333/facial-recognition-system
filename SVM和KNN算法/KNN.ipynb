{
 "cells": [
  {
   "cell_type": "code",
   "execution_count": 2,
   "id": "d3a246d8",
   "metadata": {},
   "outputs": [],
   "source": [
    "# 导入包\n",
    "import numpy as np\n",
    "import cv2\n",
    "import dlib\n",
    "import random#构建随机测试集和训练集\n",
    "from sklearn.svm import SVC #导入svm\n",
    "from sklearn.svm import LinearSVC #导入线性svm\n",
    "from sklearn.pipeline import Pipeline #导入python里的管道\n",
    "import os\n",
    "import joblib#保存模型\n",
    "from sklearn.preprocessing import StandardScaler,PolynomialFeatures #导入多项式回归和标准化\n",
    "from sklearn import neighbors\n",
    "import tqdm\n"
   ]
  },
  {
   "cell_type": "code",
   "execution_count": 3,
   "id": "4b57754d",
   "metadata": {},
   "outputs": [],
   "source": [
    "folder_path='D:/Download/project data/'\n",
    "label='labels.txt'#标签文件\n",
    "pic_folder='dataset/'#图片文件路径\n"
   ]
  },
  {
   "cell_type": "code",
   "execution_count": 4,
   "id": "fa8f7bb0",
   "metadata": {},
   "outputs": [],
   "source": [
    "#获得默认的人脸检测器和训练好的人脸68特征点检测器\n",
    "def get_detector_and_predicyor():\n",
    "    #使用dlib自带的frontal_face_detector作为我们的特征提取器\n",
    "    detector = dlib.get_frontal_face_detector()\n",
    "    \"\"\"\n",
    "    功能：人脸检测画框\n",
    "    参数：PythonFunction和in Classes\n",
    "    in classes表示采样次数，次数越多获取的人脸的次数越多，但更容易框错\n",
    "    返回值是矩形的坐标，每个矩形为一个人脸（默认的人脸检测器）\n",
    "    \"\"\"\n",
    "    #返回训练好的人脸68特征点检测器\n",
    "    predictor = dlib.shape_predictor('D:/Download/project data/shape_predictor_68_face_landmarks.dat')\n",
    "    return detector,predictor\n",
    "#获取检测器\n",
    "detector,predictor=get_detector_and_predicyor()\n"
   ]
  },
  {
   "cell_type": "code",
   "execution_count": 5,
   "id": "72e26cd7",
   "metadata": {},
   "outputs": [],
   "source": [
    "def cut_face(img,detector,predictor):   \n",
    "    #截取面部\n",
    "    img_gry=cv2.cvtColor(img,cv2.COLOR_BGR2GRAY)\n",
    "    rects = detector(img_gry, 0)  \n",
    "    if len(rects)!=0:\n",
    "        mouth_x=0\n",
    "        mouth_y=0\n",
    "        landmarks = np.matrix([[p.x, p.y] for p in predictor(img,rects[0]).parts()])\n",
    "        for i in range(47,67):#嘴巴范围\n",
    "            mouth_x+=landmarks[i][0,0]\n",
    "            mouth_y+=landmarks[i][0,1]\n",
    "        mouth_x=int(mouth_x/20)\n",
    "        mouth_y=int(mouth_y/20)\n",
    "        #裁剪图片\n",
    "        img_cut=img_gry[mouth_y-20:mouth_y+20,mouth_x-20:mouth_x+20]\n",
    "        return img_cut\n",
    "    else:\n",
    "        return 0#检测不到人脸返回0\n"
   ]
  },
  {
   "cell_type": "code",
   "execution_count": 6,
   "id": "a3dd3b93",
   "metadata": {},
   "outputs": [],
   "source": [
    "#提取特征值\n",
    "def get_feature(files_train,face,face_feature):\n",
    "    for i in tqdm.tqdm(range(len(files_train))):\n",
    "        img=cv2.imread(folder_path+pic_folder+files_train[i])\n",
    "        cut_img=cut_face(img,detector,predictor)\n",
    "        if type(cut_img)!=int:\n",
    "            face.append(True)\n",
    "            cut_img=cv2.resize(cut_img,(64,64))\n",
    "            \n",
    "            #padding:边界处理的padding\n",
    "            padding=(8,8)\n",
    "            winstride=(16,16)\n",
    "            hogdescrip=hog.compute(cut_img,winstride,padding).reshape((-1,))\n",
    "            face_feature.append(hogdescrip)\n",
    "        else:\n",
    "            face.append(False)#没有检测到脸的\n",
    "            face_feature.append(0)\n"
   ]
  },
  {
   "cell_type": "code",
   "execution_count": 7,
   "id": "5719a855",
   "metadata": {},
   "outputs": [],
   "source": [
    "def filtrate_face(face,face_feature,face_site): #去掉检测不到脸的图片的特征并返回特征数组和相应标签   \n",
    "    face_features=[]\n",
    "    #获取标签\n",
    "    label_flag=[]\n",
    "    with open(folder_path+label,'r') as f:\n",
    "        lines=f.read().splitlines()\n",
    "    #筛选出能检测到脸的，并收集对应的label\n",
    "    for i in tqdm.tqdm(range(len(face_site))):\n",
    "        if face[i]:#判断是否检测到脸\n",
    "            #pop之后要删掉当前元素，后面的元素也要跟着前移，所以每次提取第一位就行了\n",
    "            face_features.append(face_feature.pop(0))\n",
    "            label_flag.append(int(lines[face_site[i]][0])) \n",
    "        else:\n",
    "            face_feature.pop(0)\n",
    "    datax=np.float64(face_features)\n",
    "    datay=np.array(label_flag)\n",
    "    return datax,datay\n"
   ]
  },
  {
   "cell_type": "code",
   "execution_count": 8,
   "id": "d086598f",
   "metadata": {},
   "outputs": [],
   "source": [
    "def PolynomialSVC(degree,c=10):#多项式svm\n",
    "    return Pipeline([\n",
    "            # 将源数据 映射到 3阶多项式\n",
    "            (\"poly_features\", PolynomialFeatures(degree=degree)),\n",
    "            # 标准化\n",
    "            (\"scaler\", StandardScaler()),\n",
    "            # SVC线性分类器\n",
    "            (\"svm_clf\", LinearSVC(C=10, loss=\"hinge\", random_state=42,max_iter=10000))\n",
    "        ])\n"
   ]
  },
  {
   "cell_type": "code",
   "execution_count": null,
   "id": "389bd26e",
   "metadata": {},
   "outputs": [],
   "source": [
    "\n"
   ]
  },
  {
   "cell_type": "code",
   "execution_count": 10,
   "id": "2180fdcb",
   "metadata": {},
   "outputs": [],
   "source": [
    "def test(files_test,test_site,svc):#预测，查看结果集\n",
    "    '''\n",
    "    files_train:训练文件名的集合\n",
    "    train_site :训练文件在文件夹里的位置\n",
    "    '''\n",
    "    #是否检测到人脸\n",
    "    test_face=[]\n",
    "    #人脸的特征数组\n",
    "    test_feature=[]\n",
    "    #提取训练集的特征数组\n",
    "    get_feature(files_test,test_face,test_feature)\n",
    "    #筛选掉检测不到脸的特征数组\n",
    "    test_x,test_y=filtrate_face(test_face,test_feature,test_site)\n",
    "    pre_y=svc.predict(test_x)\n",
    "    ac_rate=0\n",
    "    for i in range(len(pre_y)):\n",
    "        if(pre_y[i]==test_y[i]):\n",
    "            ac_rate+=1\n",
    "    ac=ac_rate/len(pre_y)*100\n",
    "    print(\"准确率为\"+str(ac)+\"%\")\n",
    "    return ac\n"
   ]
  },
  {
   "cell_type": "code",
   "execution_count": 11,
   "id": "4e5f0a7c",
   "metadata": {},
   "outputs": [],
   "source": [
    "#设置hog的参数\n",
    "winsize=(64,64)\n",
    "blocksize=(32,32)\n",
    "blockstride=(16,16)\n",
    "cellsize=(8,8)\n",
    "nbin=9\n",
    "#定义hog\n",
    "hog=cv2.HOGDescriptor(winsize,blocksize,blockstride,cellsize,nbin)\n",
    "#获取文件夹里有哪些文件\n",
    "files=os.listdir(folder_path+pic_folder)\n"
   ]
  },
  {
   "cell_type": "code",
   "execution_count": null,
   "id": "f1e8d6a0",
   "metadata": {},
   "outputs": [],
   "source": [
    "\n"
   ]
  },
  {
   "cell_type": "code",
   "execution_count": 152,
   "id": "ef6ea63a",
   "metadata": {},
   "outputs": [],
   "source": [
    "def KNNtrain(files_train,train_site):#训练\n",
    "    '''\n",
    "    files_train:训练文件名的集合\n",
    "    train_site :训练文件在文件夹里的位置\n",
    "    '''\n",
    "    #是否检测到人脸\n",
    "    train_face=[]\n",
    "    #人脸的特征数组\n",
    "    train_feature=[]\n",
    "    #提取训练集的特征数组\n",
    "    get_feature(files_train,train_face,train_feature)\n",
    "    #筛选掉检测不到脸的特征数组\n",
    "    train_x,train_y=filtrate_face(train_face,train_feature,train_site)\n",
    "    knn=neighbors.KNeighborsClassifier(n_neighbors=1)\n",
    "    knn.fit(train_x,train_y)\n",
    "    return knn#返回训练好的模型"
   ]
  },
  {
   "cell_type": "code",
   "execution_count": 154,
   "id": "198b5c90",
   "metadata": {},
   "outputs": [
    {
     "name": "stderr",
     "output_type": "stream",
     "text": [
      "100%|██████████████████████████████████████████████████████████████████████████████████████████████████████████████████| 2000/2000 [00:03<00:00, 632.54it/s]\n",
      "100%|██████████████████████████████████████████████████████████████████████████████████████████████████████████████| 2000/2000 [00:00<00:00, 1947668.45it/s]\n",
      "100%|██████████████████████████████████████████████████████████████████████████████████████████████████████████████████| 2000/2000 [00:03<00:00, 607.03it/s]\n",
      "100%|██████████████████████████████████████████████████████████████████████████████████████████████████████████████| 2000/2000 [00:00<00:00, 2005404.73it/s]\n"
     ]
    },
    {
     "name": "stdout",
     "output_type": "stream",
     "text": [
      "准确率为98.11320754716981%\n"
     ]
    },
    {
     "name": "stderr",
     "output_type": "stream",
     "text": [
      "100%|██████████████████████████████████████████████████████████████████████████████████████████████████████████████████| 2000/2000 [00:03<00:00, 609.77it/s]\n",
      "100%|██████████████████████████████████████████████████████████████████████████████████████████████████████████████| 2000/2000 [00:00<00:00, 1003062.06it/s]\n",
      "100%|██████████████████████████████████████████████████████████████████████████████████████████████████████████████████| 2000/2000 [00:03<00:00, 615.95it/s]\n",
      "100%|██████████████████████████████████████████████████████████████████████████████████████████████████████████████| 2000/2000 [00:00<00:00, 1917396.11it/s]\n"
     ]
    },
    {
     "name": "stdout",
     "output_type": "stream",
     "text": [
      "准确率为98.37133550488599%\n"
     ]
    },
    {
     "name": "stderr",
     "output_type": "stream",
     "text": [
      "100%|██████████████████████████████████████████████████████████████████████████████████████████████████████████████████| 2000/2000 [00:03<00:00, 615.02it/s]\n",
      "100%|██████████████████████████████████████████████████████████████████████████████████████████████████████████████| 2000/2000 [00:00<00:00, 1005948.91it/s]\n",
      "100%|██████████████████████████████████████████████████████████████████████████████████████████████████████████████████| 2000/2000 [00:03<00:00, 624.06it/s]\n",
      "100%|██████████████████████████████████████████████████████████████████████████████████████████████████████████████| 2000/2000 [00:00<00:00, 2004925.43it/s]\n"
     ]
    },
    {
     "name": "stdout",
     "output_type": "stream",
     "text": [
      "准确率为99.01960784313727%\n"
     ]
    },
    {
     "name": "stderr",
     "output_type": "stream",
     "text": [
      "100%|██████████████████████████████████████████████████████████████████████████████████████████████████████████████████| 2000/2000 [00:03<00:00, 608.99it/s]\n",
      "100%|██████████████████████████████████████████████████████████████████████████████████████████████████████████████| 2000/2000 [00:00<00:00, 2005404.73it/s]\n",
      "100%|██████████████████████████████████████████████████████████████████████████████████████████████████████████████████| 2000/2000 [00:03<00:00, 608.88it/s]\n",
      "100%|██████████████████████████████████████████████████████████████████████████████████████████████████████████████| 2000/2000 [00:00<00:00, 2003967.51it/s]\n"
     ]
    },
    {
     "name": "stdout",
     "output_type": "stream",
     "text": [
      "准确率为98.84297520661157%\n"
     ]
    },
    {
     "name": "stderr",
     "output_type": "stream",
     "text": [
      "100%|██████████████████████████████████████████████████████████████████████████████████████████████████████████████████| 2000/2000 [00:03<00:00, 608.11it/s]\n",
      "100%|██████████████████████████████████████████████████████████████████████████████████████████████████████████████| 2000/2000 [00:00<00:00, 1003542.05it/s]\n",
      "100%|██████████████████████████████████████████████████████████████████████████████████████████████████████████████████| 2000/2000 [00:03<00:00, 617.50it/s]\n",
      "100%|██████████████████████████████████████████████████████████████████████████████████████████████████████████████| 2000/2000 [00:00<00:00, 2005404.73it/s]\n"
     ]
    },
    {
     "name": "stdout",
     "output_type": "stream",
     "text": [
      "准确率为98.38449111470113%\n"
     ]
    },
    {
     "name": "stderr",
     "output_type": "stream",
     "text": [
      "100%|██████████████████████████████████████████████████████████████████████████████████████████████████████████████████| 2000/2000 [00:03<00:00, 604.01it/s]\n",
      "100%|██████████████████████████████████████████████████████████████████████████████████████████████████████████████| 2000/2000 [00:00<00:00, 1229640.57it/s]\n",
      "100%|██████████████████████████████████████████████████████████████████████████████████████████████████████████████████| 2000/2000 [00:03<00:00, 614.57it/s]\n",
      "100%|██████████████████████████████████████████████████████████████████████████████████████████████████████████████| 2000/2000 [00:00<00:00, 1002822.24it/s]\n"
     ]
    },
    {
     "name": "stdout",
     "output_type": "stream",
     "text": [
      "准确率为98.00995024875621%\n"
     ]
    },
    {
     "name": "stderr",
     "output_type": "stream",
     "text": [
      "100%|██████████████████████████████████████████████████████████████████████████████████████████████████████████████████| 2000/2000 [00:03<00:00, 557.69it/s]\n",
      "100%|██████████████████████████████████████████████████████████████████████████████████████████████████████████████| 2000/2000 [00:00<00:00, 1003422.01it/s]\n",
      "100%|██████████████████████████████████████████████████████████████████████████████████████████████████████████████████| 2000/2000 [00:03<00:00, 552.36it/s]\n",
      "100%|██████████████████████████████████████████████████████████████████████████████████████████████████████████████| 2000/2000 [00:00<00:00, 1002103.45it/s]\n"
     ]
    },
    {
     "name": "stdout",
     "output_type": "stream",
     "text": [
      "准确率为98.55072463768117%\n"
     ]
    },
    {
     "name": "stderr",
     "output_type": "stream",
     "text": [
      "100%|██████████████████████████████████████████████████████████████████████████████████████████████████████████████████| 2000/2000 [00:03<00:00, 554.49it/s]\n",
      "100%|██████████████████████████████████████████████████████████████████████████████████████████████████████████████| 2000/2000 [00:00<00:00, 1001505.25it/s]\n",
      "100%|██████████████████████████████████████████████████████████████████████████████████████████████████████████████████| 2000/2000 [00:03<00:00, 579.73it/s]\n",
      "100%|██████████████████████████████████████████████████████████████████████████████████████████████████████████████| 2000/2000 [00:00<00:00, 1006552.44it/s]\n"
     ]
    },
    {
     "name": "stdout",
     "output_type": "stream",
     "text": [
      "准确率为98.37133550488599%\n"
     ]
    },
    {
     "name": "stderr",
     "output_type": "stream",
     "text": [
      "100%|██████████████████████████████████████████████████████████████████████████████████████████████████████████████████| 2000/2000 [00:03<00:00, 539.11it/s]\n",
      "100%|██████████████████████████████████████████████████████████████████████████████████████████████████████████████| 2000/2000 [00:00<00:00, 2003967.51it/s]\n",
      "100%|██████████████████████████████████████████████████████████████████████████████████████████████████████████████████| 2000/2000 [00:03<00:00, 565.48it/s]\n",
      "100%|██████████████████████████████████████████████████████████████████████████████████████████████████████████████| 2000/2000 [00:00<00:00, 2004925.43it/s]\n"
     ]
    },
    {
     "name": "stdout",
     "output_type": "stream",
     "text": [
      "准确率为98.69706840390879%\n"
     ]
    },
    {
     "name": "stderr",
     "output_type": "stream",
     "text": [
      "100%|██████████████████████████████████████████████████████████████████████████████████████████████████████████████████| 2000/2000 [00:03<00:00, 555.49it/s]\n",
      "100%|███████████████████████████████████████████████████████████████████████████████████████████████████████████████| 2000/2000 [00:00<00:00, 996508.43it/s]\n",
      "100%|██████████████████████████████████████████████████████████████████████████████████████████████████████████████████| 2000/2000 [00:03<00:00, 586.12it/s]\n",
      "100%|██████████████████████████████████████████████████████████████████████████████████████████████████████████████| 2000/2000 [00:00<00:00, 1263344.58it/s]\n"
     ]
    },
    {
     "name": "stdout",
     "output_type": "stream",
     "text": [
      "准确率为98.68637110016421%\n",
      "平均准确率为98.50470671119022%\n"
     ]
    }
   ],
   "source": [
    "ac=float(0)\n",
    "for j in range(10):\n",
    "    site=[i for i in range(4000)]\n",
    "    #训练所用的样本所在的位置\n",
    "    train_site=random.sample(site,2000)\n",
    "    #预测所用样本所在的位置\n",
    "    test_site=[]\n",
    "    for i in range(len(site)):\n",
    "        if site[i] not in train_site:\n",
    "            test_site.append(site[i])\n",
    "    files_train=[]\n",
    "    \n",
    "    #测试数据问题\n",
    "    #train_site=[i for i in range(4000)]\n",
    "    #训练集,占总数的十分之九\n",
    "    for i in range(len(train_site)):\n",
    "        files_train.append(files[train_site[i]])\n",
    "    #测试集\n",
    "    files_test=[]\n",
    "    for i in range(len(test_site)):\n",
    "        files_test.append(files[test_site[i]])\n",
    "    #print(str(files_test))\n",
    "    #print(train_site)\n",
    "    knn=KNNtrain(files_train,train_site)\n",
    "    ac=ac+test(files_test,test_site,svc)\n",
    "    #save_path='D:/Download/project data/classification'+str(j)+'(hog).pkl'\n",
    "    #joblib.dump(svc,save_path)\n",
    "ac=ac/10\n",
    "print(\"平均准确率为\"+str(ac)+\"%\")"
   ]
  },
  {
   "cell_type": "code",
   "execution_count": null,
   "id": "603a7bb5",
   "metadata": {},
   "outputs": [],
   "source": []
  }
 ],
 "metadata": {
  "kernelspec": {
   "display_name": "Python 3 (ipykernel)",
   "language": "python",
   "name": "python3"
  },
  "language_info": {
   "codemirror_mode": {
    "name": "ipython",
    "version": 3
   },
   "file_extension": ".py",
   "mimetype": "text/x-python",
   "name": "python",
   "nbconvert_exporter": "python",
   "pygments_lexer": "ipython3",
   "version": "3.9.7"
  }
 },
 "nbformat": 4,
 "nbformat_minor": 5
}
